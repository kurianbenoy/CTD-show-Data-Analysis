{
 "cells": [
  {
   "cell_type": "code",
   "execution_count": 15,
   "metadata": {},
   "outputs": [],
   "source": [
    "import pandas as pd\n",
    "import matplotlib.pyplot as plt\n",
    "import re"
   ]
  },
  {
   "cell_type": "code",
   "execution_count": 2,
   "metadata": {},
   "outputs": [],
   "source": [
    "episode = pd.read_csv('input/Episodes.csv')\n",
    "desc = pd.read_csv('input/Description.csv')"
   ]
  },
  {
   "cell_type": "code",
   "execution_count": 3,
   "metadata": {
    "tags": []
   },
   "outputs": [
    {
     "output_type": "execute_result",
     "data": {
      "text/plain": "78    2020-05-27\nName: release_date, dtype: object"
     },
     "metadata": {},
     "execution_count": 3
    }
   ],
   "source": [
    "episode[episode['episode_id']==\"E69\"][\"release_date\"]"
   ]
  },
  {
   "cell_type": "markdown",
   "metadata": {},
   "source": [
    "- If you have listened to that episode, Sanyanam had said he has turned into age of 23. So his DOB is: 27/05/1997"
   ]
  },
  {
   "cell_type": "code",
   "execution_count": 16,
   "metadata": {},
   "outputs": [],
   "source": [
    "def extract_transcript(fn, save=False, save_path=''):\n",
    "    \"Takes transcript and converts it to `DataFrame`\"\n",
    "    pat = r'([A-Za-z]|\\s+)\\s([0-9]{0,2}:{0,1}[0-9]{1,2}:[0-9][0-9])'\n",
    "    f = open(fn, \"r\")\n",
    "    t = True\n",
    "    df = pd.DataFrame(columns = ['Time', 'Speaker', 'Text'])\n",
    "    i = 0\n",
    "    first = True\n",
    "    while t:\n",
    "        line = f.readline()\n",
    "        if line == '': t = False\n",
    "        i += 1\n",
    "        line = re.split(pat, line[:-1])\n",
    "        if len(line) == 4:\n",
    "            is_new = 1\n",
    "            speak = line[0]\n",
    "            time = line[2]\n",
    "        while is_new == 1:\n",
    "            if first:\n",
    "                line = f.readline()\n",
    "                for i in range(6):\n",
    "                    l_c = f.readline()\n",
    "                    if speak not in l_c and time not in l_c:\n",
    "                        line += l_c\n",
    "                i += 1\n",
    "                first = False\n",
    "            else:\n",
    "                line = f.readline()\n",
    "                i += 1\n",
    "            if len(line) > 2 and line != '\\n':\n",
    "                line = line[:-1]\n",
    "                df.loc[i] = [time, speak, line]\n",
    "                df.reset_index()\n",
    "            else:\n",
    "                is_new = 0\n",
    "    df.reset_index(drop=True, inplace=True)\n",
    "    df['Text'] = df['Text'].replace('\\n', '')\n",
    "    if save:\n",
    "        df.to_csv(save_path+fn.name[:-3] + 'csv', index=False, sep='|')\n",
    "    return df"
   ]
  },
  {
   "cell_type": "code",
   "execution_count": 24,
   "metadata": {},
   "outputs": [],
   "source": [
    "def extract_transcript(fn, save=False, save_path=''):\n",
    "    \"Takes transcript and converts it to `DataFrame`\"\n",
    "    pat = r'([A-Za-z]|\\s+)\\s([0-9]{0,2}:{0,1}[0-9]{1,2}:[0-9][0-9])'\n",
    "    f = open(fn, \"r\")\n",
    "    t = True\n",
    "    df = pd.DataFrame(columns = ['Time', 'Speaker', 'Text'])\n",
    "    i = 0\n",
    "    first = True\n",
    "    while t:\n",
    "        line = f.readline()\n",
    "        print(len(line))\n",
    "        if line == '': t = False\n",
    "        i += 1\n",
    "        line = re.split(pat, line[:-1])\n",
    "        if len(line) == 4:\n",
    "            is_new = 1\n",
    "            speak = line[0]\n",
    "            time = line[2]\n",
    "        while is_new == 1:\n",
    "            if first:\n",
    "                line = f.readline()\n",
    "                for i in range(6):\n",
    "                    l_c = f.readline()\n",
    "                    if speak not in l_c and time not in l_c:\n",
    "                        line += l_c\n",
    "                i += 1\n",
    "                first = False\n",
    "            else:\n",
    "                line = f.readline()\n",
    "                i += 1\n",
    "            if len(line) > 2 and line != '\\n':\n",
    "                line = line[:-1]\n",
    "                df.loc[i] = [time, speak, line]\n",
    "                df.reset_index()\n",
    "            else:\n",
    "                is_new = 0\n",
    "    df.reset_index(drop=True, inplace=True)\n",
    "    df['Text'] = df['Text'].replace('\\n', '')\n",
    "    if save:\n",
    "        df.to_csv(save_path+fn.name[:-3] + 'csv', index=False, sep='|')\n",
    "    return df\n"
   ]
  },
  {
   "cell_type": "code",
   "execution_count": 7,
   "metadata": {},
   "outputs": [],
   "source": [
    "def get_filenames(path):\n",
    "    dir_name = []\n",
    "    for f_name in os.listdir(path):\n",
    "        dir_name.append(f_name)\n",
    "    return dir_name"
   ]
  },
  {
   "cell_type": "code",
   "execution_count": 12,
   "metadata": {},
   "outputs": [],
   "source": [
    "li = get_filenames('input/Cleaned Subtitles/')"
   ]
  },
  {
   "cell_type": "code",
   "execution_count": 27,
   "metadata": {
    "tags": []
   },
   "outputs": [
    {
     "output_type": "stream",
     "name": "stdout",
     "text": "23\n24\n23\n24\n23\n24\n23\n24\n23\n24\n23\n24\n23\n24\n23\n24\n23\n24\n23\n24\n23\n24\n23\n24\n23\n24\n23\n24\n23\n24\n23\n24\n23\n24\n23\n24\n23\n24\n23\n24\n23\n24\n24\n23\n24\n23\n24\n23\n24\n23\n24\n23\n24\n24\n25\n24\n25\n24\n25\n24\n25\n24\n25\n24\n25\n24\n25\n24\n25\n24\n25\n24\n25\n24\n25\n24\n25\n24\n25\n24\n25\n24\n25\n24\n25\n24\n25\n24\n24\n25\n24\n25\n24\n25\n24\n25\n24\n25\n24\n25\n24\n25\n24\n25\n24\n25\n24\n25\n24\n25\n24\n25\n24\n25\n25\n24\n25\n24\n25\n24\n24\n25\n24\n25\n24\n25\n24\n25\n24\n25\n24\n25\n24\n25\n24\n25\n24\n25\n24\n25\n24\n24\n25\n24\n25\n24\n25\n24\n25\n24\n25\n24\n25\n24\n25\n24\n25\n24\n25\n24\n25\n24\n25\n24\n25\n24\n25\n24\n25\n24\n25\n24\n25\n24\n25\n24\n25\n24\n25\n24\n25\n24\n25\n24\n25\n24\n25\n24\n25\n24\n25\n24\n25\n24\n25\n24\n25\n24\n25\n24\n25\n24\n25\n24\n25\n24\n25\n24\n25\n24\n25\n24\n25\n24\n25\n24\n25\n24\n25\n24\n25\n24\n25\n24\n25\n24\n0\n"
    }
   ],
   "source": [
    "df = extract_transcript('input/Raw Subtitles/E1.txt')"
   ]
  },
  {
   "cell_type": "code",
   "execution_count": 28,
   "metadata": {},
   "outputs": [
    {
     "output_type": "execute_result",
     "data": {
      "text/plain": "   Time          Speaker                                               Text\n0  0:13   Sanyam Bhutani  Hey, this is Sanyam Bhutani and you're listeni...\n1  1:49  Abhishek Thakur  Thank you very much for the invitation. It's a...\n2  1:53   Sanyam Bhutani  Today, you're the world's only Triple Grandmas...\n3  2:12  Abhishek Thakur  Yeah cool story. Data science was never my int...\n4  2:41   Sanyam Bhutani  And this was before the boom had happened. And...",
      "text/html": "<div>\n<style scoped>\n    .dataframe tbody tr th:only-of-type {\n        vertical-align: middle;\n    }\n\n    .dataframe tbody tr th {\n        vertical-align: top;\n    }\n\n    .dataframe thead th {\n        text-align: right;\n    }\n</style>\n<table border=\"1\" class=\"dataframe\">\n  <thead>\n    <tr style=\"text-align: right;\">\n      <th></th>\n      <th>Time</th>\n      <th>Speaker</th>\n      <th>Text</th>\n    </tr>\n  </thead>\n  <tbody>\n    <tr>\n      <th>0</th>\n      <td>0:13</td>\n      <td>Sanyam Bhutani</td>\n      <td>Hey, this is Sanyam Bhutani and you're listeni...</td>\n    </tr>\n    <tr>\n      <th>1</th>\n      <td>1:49</td>\n      <td>Abhishek Thakur</td>\n      <td>Thank you very much for the invitation. It's a...</td>\n    </tr>\n    <tr>\n      <th>2</th>\n      <td>1:53</td>\n      <td>Sanyam Bhutani</td>\n      <td>Today, you're the world's only Triple Grandmas...</td>\n    </tr>\n    <tr>\n      <th>3</th>\n      <td>2:12</td>\n      <td>Abhishek Thakur</td>\n      <td>Yeah cool story. Data science was never my int...</td>\n    </tr>\n    <tr>\n      <th>4</th>\n      <td>2:41</td>\n      <td>Sanyam Bhutani</td>\n      <td>And this was before the boom had happened. And...</td>\n    </tr>\n  </tbody>\n</table>\n</div>"
     },
     "metadata": {},
     "execution_count": 28
    }
   ],
   "source": [
    "df.head()"
   ]
  },
  {
   "cell_type": "code",
   "execution_count": 29,
   "metadata": {},
   "outputs": [
    {
     "output_type": "execute_result",
     "data": {
      "text/plain": "   Time          Speaker                                               Text\n0  0:13   Sanyam Bhutani  Hey, this is Sanyam Bhutani and you're listeni...\n1  1:49  Abhishek Thakur  Thank you very much for the invitation. It's a...\n2  1:53   Sanyam Bhutani  Today, you're the world's only Triple Grandmas...\n3  2:12  Abhishek Thakur  Yeah cool story. Data science was never my int...\n4  2:41   Sanyam Bhutani  And this was before the boom had happened. And...",
      "text/html": "<div>\n<style scoped>\n    .dataframe tbody tr th:only-of-type {\n        vertical-align: middle;\n    }\n\n    .dataframe tbody tr th {\n        vertical-align: top;\n    }\n\n    .dataframe thead th {\n        text-align: right;\n    }\n</style>\n<table border=\"1\" class=\"dataframe\">\n  <thead>\n    <tr style=\"text-align: right;\">\n      <th></th>\n      <th>Time</th>\n      <th>Speaker</th>\n      <th>Text</th>\n    </tr>\n  </thead>\n  <tbody>\n    <tr>\n      <th>0</th>\n      <td>0:13</td>\n      <td>Sanyam Bhutani</td>\n      <td>Hey, this is Sanyam Bhutani and you're listeni...</td>\n    </tr>\n    <tr>\n      <th>1</th>\n      <td>1:49</td>\n      <td>Abhishek Thakur</td>\n      <td>Thank you very much for the invitation. It's a...</td>\n    </tr>\n    <tr>\n      <th>2</th>\n      <td>1:53</td>\n      <td>Sanyam Bhutani</td>\n      <td>Today, you're the world's only Triple Grandmas...</td>\n    </tr>\n    <tr>\n      <th>3</th>\n      <td>2:12</td>\n      <td>Abhishek Thakur</td>\n      <td>Yeah cool story. Data science was never my int...</td>\n    </tr>\n    <tr>\n      <th>4</th>\n      <td>2:41</td>\n      <td>Sanyam Bhutani</td>\n      <td>And this was before the boom had happened. And...</td>\n    </tr>\n  </tbody>\n</table>\n</div>"
     },
     "metadata": {},
     "execution_count": 29
    }
   ],
   "source": [
    "episode_1 = pd.read_csv('input/Cleaned Subtitles/E1.csv')\n",
    "episode_1.head()"
   ]
  },
  {
   "cell_type": "code",
   "execution_count": 31,
   "metadata": {},
   "outputs": [
    {
     "output_type": "execute_result",
     "data": {
      "text/plain": "   Time         Speaker                                               Text\n0  0:13  Sanyam Bhutani  Hey, this is Sanyam Bhutani and you're listeni...\n1  1:46  Sanyam Bhutani  Hi, everyone, I'm today talking to a very spec...\n2  1:57    Ryan Chesler  Yeah, yeah. Thanks for having me. I've seen yo...\n3  2:06  Sanyam Bhutani  So I'm really a fan of your write up, the pers...\n4  2:32    Ryan Chesler  Yeah, yeah. It really was just looking at YouT...",
      "text/html": "<div>\n<style scoped>\n    .dataframe tbody tr th:only-of-type {\n        vertical-align: middle;\n    }\n\n    .dataframe tbody tr th {\n        vertical-align: top;\n    }\n\n    .dataframe thead th {\n        text-align: right;\n    }\n</style>\n<table border=\"1\" class=\"dataframe\">\n  <thead>\n    <tr style=\"text-align: right;\">\n      <th></th>\n      <th>Time</th>\n      <th>Speaker</th>\n      <th>Text</th>\n    </tr>\n  </thead>\n  <tbody>\n    <tr>\n      <th>0</th>\n      <td>0:13</td>\n      <td>Sanyam Bhutani</td>\n      <td>Hey, this is Sanyam Bhutani and you're listeni...</td>\n    </tr>\n    <tr>\n      <th>1</th>\n      <td>1:46</td>\n      <td>Sanyam Bhutani</td>\n      <td>Hi, everyone, I'm today talking to a very spec...</td>\n    </tr>\n    <tr>\n      <th>2</th>\n      <td>1:57</td>\n      <td>Ryan Chesler</td>\n      <td>Yeah, yeah. Thanks for having me. I've seen yo...</td>\n    </tr>\n    <tr>\n      <th>3</th>\n      <td>2:06</td>\n      <td>Sanyam Bhutani</td>\n      <td>So I'm really a fan of your write up, the pers...</td>\n    </tr>\n    <tr>\n      <th>4</th>\n      <td>2:32</td>\n      <td>Ryan Chesler</td>\n      <td>Yeah, yeah. It really was just looking at YouT...</td>\n    </tr>\n  </tbody>\n</table>\n</div>"
     },
     "metadata": {},
     "execution_count": 31
    }
   ],
   "source": [
    "episode_2 = pd.read_csv('input/Cleaned Subtitles/E2.csv')\n",
    "episode_2.head()"
   ]
  },
  {
   "cell_type": "code",
   "execution_count": 35,
   "metadata": {},
   "outputs": [
    {
     "output_type": "execute_result",
     "data": {
      "text/plain": "'Hey, this is Sanyam Bhutani and you\\'re listening to \"Chai Time Data Science\", a podcast for data science enthusiasts, where I interview practitioners, researchers, and Kagglers about their journey, experience, and talk all things about data science.\\n\\nSanyam Bhutani  0:46  \\nHello, and welcome to the first episode. This is also part 26 of interview with machine learning heroes. In this episode, I\\'m honored to be joined by Abhishek Thakur, chief data scientist at boost.ai, and also the world\\'s first, and at the time of recording, only triple Grand Master on Kaggle. Abhishek has been working as a data scientist for the past few years. He also has a background in computer science with a master\\'s degree from the University of Bonn. We talked about his journey into data science, his Kaggle experience and his current projects. Enjoy the show.\\n\\nSanyam Bhutani  1:38  \\nHi, everyone. Thanks for tuning in. I\\'m really honored to be talking to the world\\'s first triple Grand Master today. Thank you so much for taking the time to do this interview Abhishek.'"
     },
     "metadata": {},
     "execution_count": 35
    }
   ],
   "source": [
    "episode_1['Text'].loc[0]"
   ]
  },
  {
   "cell_type": "code",
   "execution_count": 36,
   "metadata": {},
   "outputs": [],
   "source": [
    "episode_n = pd.read_csv('input/Cleaned Subtitles/E75.csv')"
   ]
  },
  {
   "cell_type": "code",
   "execution_count": 38,
   "metadata": {},
   "outputs": [],
   "source": [
    "intro_n = episode_n['Text'].loc[0]"
   ]
  },
  {
   "cell_type": "code",
   "execution_count": 39,
   "metadata": {},
   "outputs": [
    {
     "output_type": "execute_result",
     "data": {
      "text/plain": "1852"
     },
     "metadata": {},
     "execution_count": 39
    }
   ],
   "source": [
    "len(intro_n)"
   ]
  },
  {
   "cell_type": "code",
   "execution_count": 41,
   "metadata": {},
   "outputs": [
    {
     "output_type": "execute_result",
     "data": {
      "text/plain": "1056"
     },
     "metadata": {},
     "execution_count": 41
    }
   ],
   "source": [
    "intro_1 = episode_1['Text'].loc[0]\n",
    "len(intro_1)"
   ]
  },
  {
   "cell_type": "code",
   "execution_count": null,
   "metadata": {},
   "outputs": [],
   "source": []
  }
 ],
 "metadata": {
  "language_info": {
   "codemirror_mode": {
    "name": "ipython",
    "version": 3
   },
   "file_extension": ".py",
   "mimetype": "text/x-python",
   "name": "python",
   "nbconvert_exporter": "python",
   "pygments_lexer": "ipython3",
   "version": 3
  },
  "orig_nbformat": 2,
  "kernelspec": {
   "name": "python_defaultSpec_1593887339933",
   "display_name": "Python 3.7.6 64-bit ('base': conda)"
  }
 },
 "nbformat": 4,
 "nbformat_minor": 2
}