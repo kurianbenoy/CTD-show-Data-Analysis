{
 "cells": [
  {
   "cell_type": "code",
   "execution_count": 2,
   "metadata": {},
   "outputs": [],
   "source": [
    "import pandas as pd\n",
    "import matplotlib.pyplot as plt"
   ]
  },
  {
   "cell_type": "code",
   "execution_count": 5,
   "metadata": {},
   "outputs": [],
   "source": [
    "episode = pd.read_csv('input/Episodes.csv')\n",
    "desc = pd.read_csv('input/Description.csv')"
   ]
  },
  {
   "cell_type": "code",
   "execution_count": 8,
   "metadata": {
    "tags": []
   },
   "outputs": [
    {
     "output_type": "execute_result",
     "data": {
      "text/plain": "78    2020-05-27\nName: release_date, dtype: object"
     },
     "metadata": {},
     "execution_count": 8
    }
   ],
   "source": [
    "episode[episode['episode_id']==\"E69\"][\"release_date\"]"
   ]
  },
  {
   "cell_type": "markdown",
   "metadata": {},
   "source": [
    "- If you have listened to that episode, Sanyanam had said he has turned into age of 23. So his DOB is: 27/05/1997"
   ]
  },
  {
   "cell_type": "code",
   "execution_count": null,
   "metadata": {},
   "outputs": [],
   "source": [
    "def extract_transcript(fn, save=False, save_path=''):\n",
    "    \"Takes transcript and converts it to `DataFrame`\"\n",
    "    pat = r'([A-Za-z]|\\s+)\\s([0-9]{0,2}:{0,1}[0-9]{1,2}:[0-9][0-9])'\n",
    "    f = open(fn, \"r\")\n",
    "    t = True\n",
    "    df = pd.DataFrame(columns = ['Time', 'Speaker', 'Text'])\n",
    "    i = 0\n",
    "    first = True\n",
    "    while t:\n",
    "        line = f.readline()\n",
    "        if line == '': t = False\n",
    "        i += 1\n",
    "        line = re.split(pat, line[:-1])\n",
    "        if len(line) == 4:\n",
    "            is_new = 1\n",
    "            speak = line[0]\n",
    "            time = line[2]\n",
    "        while is_new == 1:\n",
    "            if first:\n",
    "                line = f.readline()\n",
    "                for i in range(6):\n",
    "                    l_c = f.readline()\n",
    "                    if speak not in l_c and time not in l_c:\n",
    "                        line += l_c\n",
    "                i += 1\n",
    "                first = False\n",
    "            else:\n",
    "                line = f.readline()\n",
    "                i += 1\n",
    "            if len(line) > 2 and line != '\\n':\n",
    "                line = line[:-1]\n",
    "                df.loc[i] = [time, speak, line]\n",
    "                df.reset_index()\n",
    "            else:\n",
    "                is_new = 0\n",
    "    df.reset_index(drop=True, inplace=True)\n",
    "    df['Text'] = df['Text'].replace('\\n', '')\n",
    "    if save:\n",
    "        df.to_csv(save_path+fn.name[:-3] + 'csv', index=False, sep='|')\n",
    "    return df"
   ]
  }
 ],
 "metadata": {
  "language_info": {
   "codemirror_mode": {
    "name": "ipython",
    "version": 3
   },
   "file_extension": ".py",
   "mimetype": "text/x-python",
   "name": "python",
   "nbconvert_exporter": "python",
   "pygments_lexer": "ipython3",
   "version": 3
  },
  "orig_nbformat": 2,
  "kernelspec": {
   "name": "python_defaultSpec_1593566966503",
   "display_name": "Python 3.7.6 64-bit ('base': conda)"
  }
 },
 "nbformat": 4,
 "nbformat_minor": 2
}